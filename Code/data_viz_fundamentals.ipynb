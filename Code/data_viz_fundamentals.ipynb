{
 "cells": [
  {
   "cell_type": "markdown",
   "metadata": {},
   "source": [
    "# Visual Perception"
   ]
  },
  {
   "attachments": {},
   "cell_type": "markdown",
   "metadata": {},
   "source": [
    "## Perception\n",
    "Read [this study by Christopher G. Healey](https://www.csc2.ncsu.edu/faculty/healey/PP/index.html). We will look at some of the experiments in class, but feel free to explore on your own as well.\n",
    "\n",
    "1. What is preattentive processing?\n",
    "\n",
    "The ability of the low-level human visual system to rapidly identify certain basic visual properties.\n",
    "\n",
    "2. What are some examples of preattentive visual features?\n",
    "\n",
    "Colour/intensity(saturation), shape/form, orientation, closed/open, length/width/size, density/contrast, number estimation, movement, flicker, lighting, 3d\n",
    "\n",
    "3. What happens to preattentive processing when there are multiple such features in the same image?\n",
    "\n",
    "Takes more time/no longer preattentive.\n",
    "\n",
    "4. What is the theory of the feature hierarchy?\n",
    "\n",
    "colour > shape"
   ]
  },
  {
   "attachments": {},
   "cell_type": "markdown",
   "metadata": {},
   "source": [
    "## Grouping\n",
    "Read sections 1.3.2 and 1.3.3 of [this text]().\n",
    "Then, skim this [Wikipedia article on grouping]().\n",
    "\n",
    "1. What are **gestalt** rules?\n",
    "\n",
    "humans naturally perceive objects as organized patterns and objects\n",
    "\n",
    "2. What do we mean by **perceptual distance**, and how might it be measured?\n",
    "\n",
    "some features are more differentiable/readable/recognisable over others.\n",
    "\n",
    "3. How might perceptual distance be used in a visualization?\n",
    "\n",
    "colour>shape"
   ]
  },
  {
   "attachments": {},
   "cell_type": "markdown",
   "metadata": {},
   "source": [
    "## Seeing Color\n",
    "Watch this short [Youtube video](https://www.youtube.com/watch?v=l8_fZPHasdo) on how our eyes see color.\n",
    "\n",
    "1. What are the differences between rods and cones?\n",
    "\n",
    "colour vs brightness\n",
    "\n",
    "2. What is the difference between **additive** color and **subtractive** color?\n",
    "\n",
    "      cgmk, rgb\n",
    "\n",
    "      1. Which color model is used for electronic media?\n",
    "\n",
    "      rgb\n",
    "\n",
    "      2. Which color model is used for print media?\n",
    "\n",
    "      cgmk\n",
    "\n",
    "3. Why is it important to know which model we use for a visualization?\n",
    "\n",
    "displays -rgb"
   ]
  },
  {
   "cell_type": "markdown",
   "metadata": {},
   "source": [
    "## Using Color\n",
    "Read [this chapter](https://clauswilke.com/dataviz/color-basics.html) on how color can be used in a visualization.\n",
    "\n",
    "1. Describe the three different use cases of color that are mentioned in the chapter.\n",
    "\n",
    " Color as a tool to distinguish, Color to represent data values, Color as a tool to highlight."
   ]
  },
  {
   "attachments": {},
   "cell_type": "markdown",
   "metadata": {},
   "source": [
    "## Visualization Fundamentals\n",
    "The basis of all data visualization is in the **mapping** of data (e.g. numbers) to visual features.  \n",
    "Read [this chapter](https://clauswilke.com/dataviz/aesthetic-mapping.html) to learn some vocabulary regarding data visualization.\n",
    "\n",
    "1. What is a **scale**? Give some examples of how they are used.\n",
    "\n",
    "x, y, shape, colour, size. differentiate categorical, numerical values of all types. function that maps things to stuff (bijection kinda stuff), such as grade to colour.\n",
    "\n",
    "2. What **scale** might be appropriate to map different penguin species?\n",
    "\n",
    "y axis or colour\n",
    "\n",
    "3. What **scale** might be appropriate to map penguin bill length?\n",
    "\n",
    "colour\n",
    "\n",
    "Skim through [these slides](https://www.cs171.org/2015/assets/slides/05-marks_channels.pdf) as well.\n",
    "\n",
    "4. What are **marks** and **channels**? Give some examples.\n",
    "\n",
    "Marks: represent items or links - points, lines,area,volume, direct marking of data and containment or connection (of marks)\n",
    "Channels: change appearance based on attribute - scales map variables to channels\n",
    "Channel = Visual Variable\n",
    "\n",
    "5. Why is it not a good idea to map a single variable to more than one **channel**?\n",
    "\n",
    "redundant.\n",
    "\n",
    "6. Explain how **channels** can be used to define a **scale**.\n",
    "\n",
    "mapping"
   ]
  },
  {
   "attachments": {},
   "cell_type": "markdown",
   "metadata": {},
   "source": [
    "## Accessibility\n",
    "**Accessible data visualization is better data visualization.**\n",
    "\n",
    "Skim through [this article by Sara Hendren](https://www.wired.com/2014/10/all-technology-is-assistive/).\n",
    "\n",
    "1. What does she mean by _all technology is assistive technology_? What examples does she use?\n",
    "\n",
    "\n",
    "\n",
    "2. How might this pertain to data visualization?\n",
    "\n",
    "\n",
    "\n",
    "Skim through [this article](https://webdesign.tutsplus.com/articles/accessibility-basics-designing-for-visual-impairment--cms-27634) as well.\n",
    "\n",
    "3. What are some of the outlined best practices?\n",
    "4. Why does the author say to avoid using color?\n",
    "\n",
    "5. What are some major takeaways from [these guidelines from the Consumer Financial Protection Bureau](https://cfpb.github.io/design-system/)?\n"
   ]
  }
 ],
 "metadata": {
  "language_info": {
   "name": "python"
  },
  "orig_nbformat": 4
 },
 "nbformat": 4,
 "nbformat_minor": 2
}
