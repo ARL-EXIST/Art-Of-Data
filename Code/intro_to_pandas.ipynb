{
 "cells": [
  {
   "cell_type": "markdown",
   "metadata": {},
   "source": [
    "# Jupyter Notebooks\n",
    "**Jupyter** notebooks are commonly used to combine Markdown and Python into a single file. For example, this file is a notebook file! Imagine a blog post where you can talk about your thought process, show your code, and also let readers run the code.\n",
    "\n",
    "The great things about cells is that you can run specific sections of code at a time. You can also quickly see the return values of each cell without running the entire file."
   ]
  },
  {
   "cell_type": "code",
   "execution_count": 2,
   "metadata": {},
   "outputs": [
    {
     "name": "stdout",
     "output_type": "stream",
     "text": [
      "Hello, World\n"
     ]
    }
   ],
   "source": [
    "# Try running this cell!\n",
    "print(\"Hello, World\")"
   ]
  },
  {
   "cell_type": "markdown",
   "metadata": {},
   "source": [
    "# Pandas"
   ]
  },
  {
   "cell_type": "markdown",
   "metadata": {},
   "source": [
    "1. What happens when you run the code below? Make sure you change the path to point to where `penguins.csv` is stored on your own computer."
   ]
  },
  {
   "cell_type": "code",
   "execution_count": 4,
   "metadata": {},
   "outputs": [
    {
     "data": {
      "text/html": [
       "<div>\n",
       "<style scoped>\n",
       "    .dataframe tbody tr th:only-of-type {\n",
       "        vertical-align: middle;\n",
       "    }\n",
       "\n",
       "    .dataframe tbody tr th {\n",
       "        vertical-align: top;\n",
       "    }\n",
       "\n",
       "    .dataframe thead th {\n",
       "        text-align: right;\n",
       "    }\n",
       "</style>\n",
       "<table border=\"1\" class=\"dataframe\">\n",
       "  <thead>\n",
       "    <tr style=\"text-align: right;\">\n",
       "      <th></th>\n",
       "      <th>species</th>\n",
       "      <th>island</th>\n",
       "      <th>bill_length_mm</th>\n",
       "      <th>bill_depth_mm</th>\n",
       "      <th>flipper_length_mm</th>\n",
       "      <th>body_mass_g</th>\n",
       "      <th>sex</th>\n",
       "      <th>year</th>\n",
       "    </tr>\n",
       "  </thead>\n",
       "  <tbody>\n",
       "    <tr>\n",
       "      <th>0</th>\n",
       "      <td>Adelie</td>\n",
       "      <td>Torgersen</td>\n",
       "      <td>39.1</td>\n",
       "      <td>18.7</td>\n",
       "      <td>181.0</td>\n",
       "      <td>3750.0</td>\n",
       "      <td>male</td>\n",
       "      <td>2007</td>\n",
       "    </tr>\n",
       "    <tr>\n",
       "      <th>1</th>\n",
       "      <td>Adelie</td>\n",
       "      <td>Torgersen</td>\n",
       "      <td>39.5</td>\n",
       "      <td>17.4</td>\n",
       "      <td>186.0</td>\n",
       "      <td>3800.0</td>\n",
       "      <td>female</td>\n",
       "      <td>2007</td>\n",
       "    </tr>\n",
       "    <tr>\n",
       "      <th>2</th>\n",
       "      <td>Adelie</td>\n",
       "      <td>Torgersen</td>\n",
       "      <td>40.3</td>\n",
       "      <td>18.0</td>\n",
       "      <td>195.0</td>\n",
       "      <td>3250.0</td>\n",
       "      <td>female</td>\n",
       "      <td>2007</td>\n",
       "    </tr>\n",
       "    <tr>\n",
       "      <th>3</th>\n",
       "      <td>Adelie</td>\n",
       "      <td>Torgersen</td>\n",
       "      <td>36.7</td>\n",
       "      <td>19.3</td>\n",
       "      <td>193.0</td>\n",
       "      <td>3450.0</td>\n",
       "      <td>female</td>\n",
       "      <td>2007</td>\n",
       "    </tr>\n",
       "    <tr>\n",
       "      <th>4</th>\n",
       "      <td>Adelie</td>\n",
       "      <td>Torgersen</td>\n",
       "      <td>39.3</td>\n",
       "      <td>20.6</td>\n",
       "      <td>190.0</td>\n",
       "      <td>3650.0</td>\n",
       "      <td>male</td>\n",
       "      <td>2007</td>\n",
       "    </tr>\n",
       "    <tr>\n",
       "      <th>...</th>\n",
       "      <td>...</td>\n",
       "      <td>...</td>\n",
       "      <td>...</td>\n",
       "      <td>...</td>\n",
       "      <td>...</td>\n",
       "      <td>...</td>\n",
       "      <td>...</td>\n",
       "      <td>...</td>\n",
       "    </tr>\n",
       "    <tr>\n",
       "      <th>337</th>\n",
       "      <td>Chinstrap</td>\n",
       "      <td>Dream</td>\n",
       "      <td>55.8</td>\n",
       "      <td>19.8</td>\n",
       "      <td>207.0</td>\n",
       "      <td>4000.0</td>\n",
       "      <td>male</td>\n",
       "      <td>2009</td>\n",
       "    </tr>\n",
       "    <tr>\n",
       "      <th>338</th>\n",
       "      <td>Chinstrap</td>\n",
       "      <td>Dream</td>\n",
       "      <td>43.5</td>\n",
       "      <td>18.1</td>\n",
       "      <td>202.0</td>\n",
       "      <td>3400.0</td>\n",
       "      <td>female</td>\n",
       "      <td>2009</td>\n",
       "    </tr>\n",
       "    <tr>\n",
       "      <th>339</th>\n",
       "      <td>Chinstrap</td>\n",
       "      <td>Dream</td>\n",
       "      <td>49.6</td>\n",
       "      <td>18.2</td>\n",
       "      <td>193.0</td>\n",
       "      <td>3775.0</td>\n",
       "      <td>male</td>\n",
       "      <td>2009</td>\n",
       "    </tr>\n",
       "    <tr>\n",
       "      <th>340</th>\n",
       "      <td>Chinstrap</td>\n",
       "      <td>Dream</td>\n",
       "      <td>50.8</td>\n",
       "      <td>19.0</td>\n",
       "      <td>210.0</td>\n",
       "      <td>4100.0</td>\n",
       "      <td>male</td>\n",
       "      <td>2009</td>\n",
       "    </tr>\n",
       "    <tr>\n",
       "      <th>341</th>\n",
       "      <td>Chinstrap</td>\n",
       "      <td>Dream</td>\n",
       "      <td>50.2</td>\n",
       "      <td>18.7</td>\n",
       "      <td>198.0</td>\n",
       "      <td>3775.0</td>\n",
       "      <td>female</td>\n",
       "      <td>2009</td>\n",
       "    </tr>\n",
       "  </tbody>\n",
       "</table>\n",
       "<p>342 rows × 8 columns</p>\n",
       "</div>"
      ],
      "text/plain": [
       "       species     island  bill_length_mm  bill_depth_mm  flipper_length_mm  \\\n",
       "0       Adelie  Torgersen            39.1           18.7              181.0   \n",
       "1       Adelie  Torgersen            39.5           17.4              186.0   \n",
       "2       Adelie  Torgersen            40.3           18.0              195.0   \n",
       "3       Adelie  Torgersen            36.7           19.3              193.0   \n",
       "4       Adelie  Torgersen            39.3           20.6              190.0   \n",
       "..         ...        ...             ...            ...                ...   \n",
       "337  Chinstrap      Dream            55.8           19.8              207.0   \n",
       "338  Chinstrap      Dream            43.5           18.1              202.0   \n",
       "339  Chinstrap      Dream            49.6           18.2              193.0   \n",
       "340  Chinstrap      Dream            50.8           19.0              210.0   \n",
       "341  Chinstrap      Dream            50.2           18.7              198.0   \n",
       "\n",
       "     body_mass_g     sex  year  \n",
       "0         3750.0    male  2007  \n",
       "1         3800.0  female  2007  \n",
       "2         3250.0  female  2007  \n",
       "3         3450.0  female  2007  \n",
       "4         3650.0    male  2007  \n",
       "..           ...     ...   ...  \n",
       "337       4000.0    male  2009  \n",
       "338       3400.0  female  2009  \n",
       "339       3775.0    male  2009  \n",
       "340       4100.0    male  2009  \n",
       "341       3775.0  female  2009  \n",
       "\n",
       "[342 rows x 8 columns]"
      ]
     },
     "execution_count": 4,
     "metadata": {},
     "output_type": "execute_result"
    }
   ],
   "source": [
    "# We're going to work with a new library called pandas\n",
    "import pandas as pd\n",
    "\n",
    "penguins = pd.read_csv(\"../docs/penguins.csv\")\n",
    "penguins"
   ]
  },
  {
   "cell_type": "markdown",
   "metadata": {},
   "source": [
    "2. What happens when you run the code below? Add a cell block to access the column for species."
   ]
  },
  {
   "cell_type": "code",
   "execution_count": 5,
   "metadata": {},
   "outputs": [
    {
     "data": {
      "text/plain": [
       "(0      39.1\n",
       " 1      39.5\n",
       " 2      40.3\n",
       " 3      36.7\n",
       " 4      39.3\n",
       "        ... \n",
       " 337    55.8\n",
       " 338    43.5\n",
       " 339    49.6\n",
       " 340    50.8\n",
       " 341    50.2\n",
       " Name: bill_length_mm, Length: 342, dtype: float64,\n",
       " 0         Adelie\n",
       " 1         Adelie\n",
       " 2         Adelie\n",
       " 3         Adelie\n",
       " 4         Adelie\n",
       "          ...    \n",
       " 337    Chinstrap\n",
       " 338    Chinstrap\n",
       " 339    Chinstrap\n",
       " 340    Chinstrap\n",
       " 341    Chinstrap\n",
       " Name: species, Length: 342, dtype: object)"
      ]
     },
     "execution_count": 5,
     "metadata": {},
     "output_type": "execute_result"
    }
   ],
   "source": [
    "penguins[\"bill_length_mm\"], penguins[\"species\"]"
   ]
  },
  {
   "cell_type": "markdown",
   "metadata": {},
   "source": [
    "3. What happens when you run the code below? Add a cell block to list all Adelie penguins."
   ]
  },
  {
   "cell_type": "code",
   "execution_count": 6,
   "metadata": {},
   "outputs": [
    {
     "data": {
      "text/plain": [
       "(    species  island  bill_length_mm  bill_depth_mm  flipper_length_mm  \\\n",
       " 151  Gentoo  Biscoe            46.1           13.2              211.0   \n",
       " 152  Gentoo  Biscoe            50.0           16.3              230.0   \n",
       " 153  Gentoo  Biscoe            48.7           14.1              210.0   \n",
       " 154  Gentoo  Biscoe            50.0           15.2              218.0   \n",
       " 155  Gentoo  Biscoe            47.6           14.5              215.0   \n",
       " ..      ...     ...             ...            ...                ...   \n",
       " 269  Gentoo  Biscoe            47.2           13.7              214.0   \n",
       " 270  Gentoo  Biscoe            46.8           14.3              215.0   \n",
       " 271  Gentoo  Biscoe            50.4           15.7              222.0   \n",
       " 272  Gentoo  Biscoe            45.2           14.8              212.0   \n",
       " 273  Gentoo  Biscoe            49.9           16.1              213.0   \n",
       " \n",
       "      body_mass_g     sex  year  \n",
       " 151       4500.0  female  2007  \n",
       " 152       5700.0    male  2007  \n",
       " 153       4450.0  female  2007  \n",
       " 154       5700.0    male  2007  \n",
       " 155       5400.0    male  2007  \n",
       " ..           ...     ...   ...  \n",
       " 269       4925.0  female  2009  \n",
       " 270       4850.0  female  2009  \n",
       " 271       5750.0    male  2009  \n",
       " 272       5200.0  female  2009  \n",
       " 273       5400.0    male  2009  \n",
       " \n",
       " [123 rows x 8 columns],\n",
       "     species     island  bill_length_mm  bill_depth_mm  flipper_length_mm  \\\n",
       " 0    Adelie  Torgersen            39.1           18.7              181.0   \n",
       " 1    Adelie  Torgersen            39.5           17.4              186.0   \n",
       " 2    Adelie  Torgersen            40.3           18.0              195.0   \n",
       " 3    Adelie  Torgersen            36.7           19.3              193.0   \n",
       " 4    Adelie  Torgersen            39.3           20.6              190.0   \n",
       " ..      ...        ...             ...            ...                ...   \n",
       " 146  Adelie      Dream            36.6           18.4              184.0   \n",
       " 147  Adelie      Dream            36.0           17.8              195.0   \n",
       " 148  Adelie      Dream            37.8           18.1              193.0   \n",
       " 149  Adelie      Dream            36.0           17.1              187.0   \n",
       " 150  Adelie      Dream            41.5           18.5              201.0   \n",
       " \n",
       "      body_mass_g     sex  year  \n",
       " 0         3750.0    male  2007  \n",
       " 1         3800.0  female  2007  \n",
       " 2         3250.0  female  2007  \n",
       " 3         3450.0  female  2007  \n",
       " 4         3650.0    male  2007  \n",
       " ..           ...     ...   ...  \n",
       " 146       3475.0  female  2009  \n",
       " 147       3450.0  female  2009  \n",
       " 148       3750.0    male  2009  \n",
       " 149       3700.0  female  2009  \n",
       " 150       4000.0    male  2009  \n",
       " \n",
       " [151 rows x 8 columns])"
      ]
     },
     "execution_count": 6,
     "metadata": {},
     "output_type": "execute_result"
    }
   ],
   "source": [
    "penguins[penguins[\"species\"] == \"Gentoo\"], penguins[penguins[\"species\"] == \"Adelie\"]"
   ]
  },
  {
   "cell_type": "markdown",
   "metadata": {},
   "source": [
    "You have been working with the **Dataframe** class that is provided by the `pandas` module! As you can see, Dataframes allow you to quickly store and access tabular information.\n",
    "\n",
    "4. Add a cell block that _describes_ the flipper length of all penguins."
   ]
  },
  {
   "cell_type": "code",
   "execution_count": 16,
   "metadata": {},
   "outputs": [
    {
     "data": {
      "text/plain": [
       "count    342.000000\n",
       "mean     200.915205\n",
       "std       14.061714\n",
       "min      172.000000\n",
       "25%      190.000000\n",
       "50%      197.000000\n",
       "75%      213.000000\n",
       "max      231.000000\n",
       "Name: flipper_length_mm, dtype: float64"
      ]
     },
     "execution_count": 16,
     "metadata": {},
     "output_type": "execute_result"
    }
   ],
   "source": [
    "penguins[\"flipper_length_mm\"].describe()"
   ]
  },
  {
   "cell_type": "code",
   "execution_count": 13,
   "metadata": {},
   "outputs": [
    {
     "data": {
      "text/plain": [
       "count    123.000000\n",
       "mean      47.504878\n",
       "std        3.081857\n",
       "min       40.900000\n",
       "25%       45.300000\n",
       "50%       47.300000\n",
       "75%       49.550000\n",
       "max       59.600000\n",
       "Name: bill_length_mm, dtype: float64"
      ]
     },
     "execution_count": 13,
     "metadata": {},
     "output_type": "execute_result"
    }
   ],
   "source": [
    "penguins[penguins[\"species\"] == \"Gentoo\"][\"bill_length_mm\"].describe()"
   ]
  }
 ],
 "metadata": {
  "kernelspec": {
   "display_name": "Python 3",
   "language": "python",
   "name": "python3"
  },
  "language_info": {
   "codemirror_mode": {
    "name": "ipython",
    "version": 3
   },
   "file_extension": ".py",
   "mimetype": "text/x-python",
   "name": "python",
   "nbconvert_exporter": "python",
   "pygments_lexer": "ipython3",
   "version": "3.9.6"
  },
  "orig_nbformat": 4,
  "vscode": {
   "interpreter": {
    "hash": "31f2aee4e71d21fbe5cf8b01ff0e069b9275f58929596ceb00d14d90e3e16cd6"
   }
  }
 },
 "nbformat": 4,
 "nbformat_minor": 2
}
